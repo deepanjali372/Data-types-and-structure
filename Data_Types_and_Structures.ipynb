{
  "cells": [
    {
      "cell_type": "markdown",
      "source": [
        "**Data type and sturcture**"
      ],
      "metadata": {
        "id": "3s4JQxVWlnu4"
      },
      "id": "3s4JQxVWlnu4"
    },
    {
      "cell_type": "markdown",
      "source": [
        "1. What are data structures, and why are they important?\n",
        "\n",
        ">Data structures are methods for organizing, storing, and managing data to enable efficient access and modification:\n",
        "\n",
        " - Allow fast retrieval and manipulation.\n",
        "\n",
        " - Essential for solving complex computational problems.\n",
        "\n",
        " - Examples: Lists, Tuples, Sets, Dictionaries, Trees, and Graphs.\n",
        "\n",
        "2. Explain the difference between mutable and immutable data types with examples.\n",
        "\n",
        ">Mutable: Can be changed after creation (e.g., list, dict, set).\n",
        "\n",
        ">Immutable: Cannot be changed once created (e.g., int, str, tuple).\n",
        "\n",
        "\n",
        "3. What are the main differences between lists and tuples in Python?\n",
        "Answer:\n",
        "\n",
        "| Feature     | List              | Tuple             |\n",
        "| ----------- | ----------------- | ----------------- |\n",
        "| Mutability  | Mutable           | Immutable         |\n",
        "| Syntax      | `[1, 2, 3]`       | `(1, 2, 3)`       |\n",
        "| Performance | Slower            | Faster            |\n",
        "| Use Case    | When data changes | Fixed data values |\n",
        "\n",
        "\n",
        "\n",
        "4. Describe how dictionaries store data.\n",
        "\n",
        ">Use a hash table internally, mapping each key to a memory index for its value.\n",
        "\n",
        ">Provide O(1) average access, insertion, and deletion.\n",
        "\n",
        "\n",
        "5. Why might you use a set instead of a list in Python?\n",
        "\n",
        "- Ensures uniqueness—no duplicates.\n",
        "\n",
        "- Offers fast membership testing (in) using hashing.\n",
        "\n",
        "- Supports mathematical set operations: union, intersection, difference.\n",
        "\n",
        "6. What is a string in Python, and how is it different from a list?\n",
        "\n",
        "- A string is an immutable sequence of characters (e.g. \"hello\").\n",
        "\n",
        "- A list is a mutable collection of elements (can include mixed types).\n",
        "\n",
        "7. How do tuples ensure data integrity in Python?\n",
        "\n",
        ">Tuples are immutable; once created, their content cannot be changed, added, or removed. This prevents accidental modification and ensures consistency.\n",
        "\n",
        "8. What is a hash table, and how does it relate to dictionaries in Python?\n",
        "\n",
        ">A hash table uses a hash function to map keys to values for fast data retrieval. Python dictionaries are implemented using hash tables, enabling efficient access.\n",
        "\n",
        "9. Can lists contain different data types in Python?\n",
        "\n",
        ">Yes, Python lists are heterogeneous and can contain multiple data types:\n",
        "\n",
        "- example = [1, \"apple\", 3.14, True]\n",
        "\n",
        "10. Explain why strings are immutable in Python.\n",
        "\n",
        "- Enables memory efficiency (e.g. interning).\n",
        "\n",
        "- Ensures thread safety.\n",
        "\n",
        "- Makes strings hashable, allowing use as dictionary keys.\n",
        "\n",
        "11. What advantages do dictionaries offer over lists for certain tasks?\n",
        "\n",
        "- Use meaningful keys for data access.\n",
        "\n",
        "- Provide fast lookup using keys (O(1) average).\n",
        "\n",
        "- Better suited for structured configuration, user data, etc.\n",
        "\n",
        "12. Describe a scenario where using a tuple would be preferable over a list.\n",
        "\n",
        ">When data should remain unchanged: e.g., geographic coordinates:\n",
        "\n",
        "- coordinates = (28.6139, 77.2090)\n",
        "\n",
        "13. How do sets handle duplicate values in Python?\n",
        "\n",
        ">Sets automatically remove duplicates.\n",
        "- Example: set([1, 2, 2, 3])  # → {1, 2, 3}\n",
        "\n",
        "14. How does the in keyword work differently for lists and dictionaries?\n",
        "\n",
        "- Lists: in checks for values.\n",
        "\n",
        "- Dictionaries: in checks only keys.\n",
        "\n",
        "15. Can you modify the elements of a tuple? Explain why or why not.\n",
        "\n",
        ">No. Tuples are immutable, which prevents changing, adding, or deleting elements after creation.\n",
        "\n",
        "16. What is a nested dictionary, and give an example of its use case?\n",
        "\n",
        ">A dictionary that contains other dictionaries; ideal for structured data like student records\n",
        "\n",
        "17. Describe the time complexity of accessing elements in a dictionary.\n",
        "\n",
        "- Average case: O(1), due to hashing.\n",
        "\n",
        "- Worst case: O(n) (rare, during hash collisions).\n",
        "\n",
        "18. In what situations are lists preferred over dictionaries?\n",
        "\n",
        "- When data order and indexing matter.\n",
        "\n",
        "- When data is sequential, not key-based.\n",
        "\n",
        "- For lower memory usage and simple aggregation.\n",
        "\n",
        "19. Why are dictionaries considered unordered, and how does that affect data retrieval?\n",
        "\n",
        "- Before Python 3.7: dictionaries were unordered and retrieval order was unpredictable.\n",
        "\n",
        "- From Python 3.7 onward: insertion order is preserved, but logic should still rely on keys, not order.\n",
        "\n",
        "20. Explain the difference between a list and a dictionary in terms of data retrieval.\n",
        "\n",
        "| Structure  | Retrieval Method | Example        |\n",
        "| ---------- | ---------------- | -------------- |\n",
        "| List       | By **index**     | `list[0]`      |\n",
        "| Dictionary | By **key**       | `dict['name']` |\n",
        "\n",
        "Lists are ordered and index-based; dictionaries are key-based with faster lookup."
      ],
      "metadata": {
        "id": "DoxbgGOEeCVv"
      },
      "id": "DoxbgGOEeCVv"
    },
    {
      "cell_type": "markdown",
      "source": [
        "**practical question**"
      ],
      "metadata": {
        "id": "1NcPc3H6duzN"
      },
      "id": "1NcPc3H6duzN"
    },
    {
      "cell_type": "markdown",
      "id": "c80f8516",
      "metadata": {
        "id": "c80f8516"
      },
      "source": [
        "### Question 1\n",
        "Create a string with your name and print it."
      ]
    },
    {
      "cell_type": "code",
      "execution_count": 1,
      "id": "97f8c10f",
      "metadata": {
        "colab": {
          "base_uri": "https://localhost:8080/"
        },
        "id": "97f8c10f",
        "outputId": "da5d9780-15df-4506-dd60-c08e660143b3"
      },
      "outputs": [
        {
          "output_type": "stream",
          "name": "stdout",
          "text": [
            "Deepu\n"
          ]
        }
      ],
      "source": [
        "name = \"Deepu\"\n",
        "print(name)"
      ]
    },
    {
      "cell_type": "markdown",
      "id": "8c943080",
      "metadata": {
        "id": "8c943080"
      },
      "source": [
        "### Question 2\n",
        "Find the length of the string \"Hello World\"."
      ]
    },
    {
      "cell_type": "code",
      "execution_count": 2,
      "id": "cb77e003",
      "metadata": {
        "colab": {
          "base_uri": "https://localhost:8080/"
        },
        "id": "cb77e003",
        "outputId": "a2337ce5-9c08-4c3b-b2cf-d25e6869b415"
      },
      "outputs": [
        {
          "output_type": "stream",
          "name": "stdout",
          "text": [
            "11\n"
          ]
        }
      ],
      "source": [
        "print(len(\"Hello World\"))"
      ]
    },
    {
      "cell_type": "markdown",
      "id": "558236aa",
      "metadata": {
        "id": "558236aa"
      },
      "source": [
        "### Question 3\n",
        "Slice the first 3 characters from the string \"Python Programming\"."
      ]
    },
    {
      "cell_type": "code",
      "execution_count": 3,
      "id": "c4d92ed2",
      "metadata": {
        "colab": {
          "base_uri": "https://localhost:8080/"
        },
        "id": "c4d92ed2",
        "outputId": "86237b98-2665-487c-9cf6-6c37a879bc55"
      },
      "outputs": [
        {
          "output_type": "stream",
          "name": "stdout",
          "text": [
            "Pyt\n"
          ]
        }
      ],
      "source": [
        "print(\"Python Programming\"[:3])"
      ]
    },
    {
      "cell_type": "markdown",
      "id": "90776433",
      "metadata": {
        "id": "90776433"
      },
      "source": [
        "### Question 4\n",
        "Convert the string \"hello\" to uppercase."
      ]
    },
    {
      "cell_type": "code",
      "execution_count": 4,
      "id": "1c6342f9",
      "metadata": {
        "colab": {
          "base_uri": "https://localhost:8080/"
        },
        "id": "1c6342f9",
        "outputId": "112273c7-4768-49ef-f209-c868613b7cfe"
      },
      "outputs": [
        {
          "output_type": "stream",
          "name": "stdout",
          "text": [
            "HELLO\n"
          ]
        }
      ],
      "source": [
        "print(\"hello\".upper())"
      ]
    },
    {
      "cell_type": "markdown",
      "id": "4ed5580f",
      "metadata": {
        "id": "4ed5580f"
      },
      "source": [
        "### Question 5\n",
        "Replace the word \"apple\" with \"orange\" in \"I like apple\"."
      ]
    },
    {
      "cell_type": "code",
      "execution_count": 5,
      "id": "4fa35603",
      "metadata": {
        "colab": {
          "base_uri": "https://localhost:8080/"
        },
        "id": "4fa35603",
        "outputId": "57acf172-f004-4645-f5df-cb7820bb1683"
      },
      "outputs": [
        {
          "output_type": "stream",
          "name": "stdout",
          "text": [
            "I like orange\n"
          ]
        }
      ],
      "source": [
        "print(\"I like apple\".replace(\"apple\", \"orange\"))"
      ]
    },
    {
      "cell_type": "markdown",
      "id": "597b7dfd",
      "metadata": {
        "id": "597b7dfd"
      },
      "source": [
        "### Question 6\n",
        "Create a list with numbers 1 to 5 and print it."
      ]
    },
    {
      "cell_type": "code",
      "execution_count": 6,
      "id": "2ce0524c",
      "metadata": {
        "colab": {
          "base_uri": "https://localhost:8080/"
        },
        "id": "2ce0524c",
        "outputId": "5fd9f024-6b1a-42fa-92a8-bc2fedb079b9"
      },
      "outputs": [
        {
          "output_type": "stream",
          "name": "stdout",
          "text": [
            "[1, 2, 3, 4, 5]\n"
          ]
        }
      ],
      "source": [
        "print([1, 2, 3, 4, 5])"
      ]
    },
    {
      "cell_type": "markdown",
      "id": "cd293652",
      "metadata": {
        "id": "cd293652"
      },
      "source": [
        "### Question 7\n",
        "Append number 10 to the list [1, 2, 3, 4]."
      ]
    },
    {
      "cell_type": "code",
      "execution_count": 7,
      "id": "043651f5",
      "metadata": {
        "colab": {
          "base_uri": "https://localhost:8080/"
        },
        "id": "043651f5",
        "outputId": "877398d9-0ec8-4647-d461-167ee3d32bc1"
      },
      "outputs": [
        {
          "output_type": "stream",
          "name": "stdout",
          "text": [
            "[1, 2, 3, 4, 10]\n"
          ]
        }
      ],
      "source": [
        "lst = [1, 2, 3, 4]\n",
        "lst.append(10)\n",
        "print(lst)"
      ]
    },
    {
      "cell_type": "markdown",
      "id": "63dfdf56",
      "metadata": {
        "id": "63dfdf56"
      },
      "source": [
        "### Question 8\n",
        "Remove number 3 from the list [1, 2, 3, 4, 5]."
      ]
    },
    {
      "cell_type": "code",
      "execution_count": 8,
      "id": "bf9fc93c",
      "metadata": {
        "colab": {
          "base_uri": "https://localhost:8080/"
        },
        "id": "bf9fc93c",
        "outputId": "dabea9fc-7aad-4f61-de89-85f63e137cd3"
      },
      "outputs": [
        {
          "output_type": "stream",
          "name": "stdout",
          "text": [
            "[1, 2, 4, 5]\n"
          ]
        }
      ],
      "source": [
        "lst = [1, 2, 3, 4, 5]\n",
        "lst.remove(3)\n",
        "print(lst)"
      ]
    },
    {
      "cell_type": "markdown",
      "id": "ac6a0c8b",
      "metadata": {
        "id": "ac6a0c8b"
      },
      "source": [
        "### Question 9\n",
        "Access second element in ['a', 'b', 'c', 'd']."
      ]
    },
    {
      "cell_type": "code",
      "execution_count": 9,
      "id": "a02f518d",
      "metadata": {
        "colab": {
          "base_uri": "https://localhost:8080/"
        },
        "id": "a02f518d",
        "outputId": "a3566e86-44b7-420e-adf8-e65684051ddc"
      },
      "outputs": [
        {
          "output_type": "stream",
          "name": "stdout",
          "text": [
            "b\n"
          ]
        }
      ],
      "source": [
        "print(['a', 'b', 'c', 'd'][1])"
      ]
    },
    {
      "cell_type": "markdown",
      "id": "55d8d743",
      "metadata": {
        "id": "55d8d743"
      },
      "source": [
        "### Question 10\n",
        "Reverse the list [10, 20, 30, 40, 50]."
      ]
    },
    {
      "cell_type": "code",
      "execution_count": 10,
      "id": "190574e3",
      "metadata": {
        "colab": {
          "base_uri": "https://localhost:8080/"
        },
        "id": "190574e3",
        "outputId": "5fee3c8e-5b4b-490c-f251-c532eb01cc11"
      },
      "outputs": [
        {
          "output_type": "stream",
          "name": "stdout",
          "text": [
            "[50, 40, 30, 20, 10]\n"
          ]
        }
      ],
      "source": [
        "lst = [10, 20, 30, 40, 50]\n",
        "lst.reverse()\n",
        "print(lst)"
      ]
    },
    {
      "cell_type": "markdown",
      "id": "62ebd3a1",
      "metadata": {
        "id": "62ebd3a1"
      },
      "source": [
        "### Question 11\n",
        "Create a tuple with 100, 200, 300 and print it."
      ]
    },
    {
      "cell_type": "code",
      "execution_count": 11,
      "id": "7d7b4f2d",
      "metadata": {
        "colab": {
          "base_uri": "https://localhost:8080/"
        },
        "id": "7d7b4f2d",
        "outputId": "f16cf7c7-1924-4873-cb73-2054fb4bf1c2"
      },
      "outputs": [
        {
          "output_type": "stream",
          "name": "stdout",
          "text": [
            "(100, 200, 300)\n"
          ]
        }
      ],
      "source": [
        "tpl = (100, 200, 300)\n",
        "print(tpl)"
      ]
    },
    {
      "cell_type": "markdown",
      "id": "b473dfec",
      "metadata": {
        "id": "b473dfec"
      },
      "source": [
        "### Question 12\n",
        "Access second-to-last element from ('red', 'green', 'blue', 'yellow')."
      ]
    },
    {
      "cell_type": "code",
      "execution_count": 12,
      "id": "bf7c6f4c",
      "metadata": {
        "colab": {
          "base_uri": "https://localhost:8080/"
        },
        "id": "bf7c6f4c",
        "outputId": "03d82b7b-fad9-4bc7-c6e0-b4a770798ac9"
      },
      "outputs": [
        {
          "output_type": "stream",
          "name": "stdout",
          "text": [
            "blue\n"
          ]
        }
      ],
      "source": [
        "tpl = ('red', 'green', 'blue', 'yellow')\n",
        "print(tpl[-2])"
      ]
    },
    {
      "cell_type": "markdown",
      "id": "fabec7a1",
      "metadata": {
        "id": "fabec7a1"
      },
      "source": [
        "### Question 13\n",
        "Find the minimum number in (10, 20, 5, 15)."
      ]
    },
    {
      "cell_type": "code",
      "execution_count": 13,
      "id": "55e18f40",
      "metadata": {
        "colab": {
          "base_uri": "https://localhost:8080/"
        },
        "id": "55e18f40",
        "outputId": "7c3e141e-34d5-4c4b-f5b2-6d64e5652900"
      },
      "outputs": [
        {
          "output_type": "stream",
          "name": "stdout",
          "text": [
            "5\n"
          ]
        }
      ],
      "source": [
        "print(min((10, 20, 5, 15)))"
      ]
    },
    {
      "cell_type": "markdown",
      "id": "3890e545",
      "metadata": {
        "id": "3890e545"
      },
      "source": [
        "### Question 14\n",
        "Find index of 'cat' in ('dog', 'cat', 'rabbit')."
      ]
    },
    {
      "cell_type": "code",
      "execution_count": 14,
      "id": "7e56f9fe",
      "metadata": {
        "colab": {
          "base_uri": "https://localhost:8080/"
        },
        "id": "7e56f9fe",
        "outputId": "02d63044-3b19-4528-968f-5ae5387a9089"
      },
      "outputs": [
        {
          "output_type": "stream",
          "name": "stdout",
          "text": [
            "1\n"
          ]
        }
      ],
      "source": [
        "tpl = ('dog', 'cat', 'rabbit')\n",
        "print(tpl.index('cat'))"
      ]
    },
    {
      "cell_type": "markdown",
      "id": "1339a56f",
      "metadata": {
        "id": "1339a56f"
      },
      "source": [
        "### Question 15\n",
        "Check if 'kiwi' in a fruit tuple."
      ]
    },
    {
      "cell_type": "code",
      "execution_count": 15,
      "id": "7cca81d9",
      "metadata": {
        "colab": {
          "base_uri": "https://localhost:8080/"
        },
        "id": "7cca81d9",
        "outputId": "25db667d-5fe2-416d-ebe4-c049af114cfe"
      },
      "outputs": [
        {
          "output_type": "stream",
          "name": "stdout",
          "text": [
            "False\n"
          ]
        }
      ],
      "source": [
        "fruits = ('apple', 'banana', 'mango')\n",
        "print('kiwi' in fruits)"
      ]
    },
    {
      "cell_type": "markdown",
      "id": "9a0145ea",
      "metadata": {
        "id": "9a0145ea"
      },
      "source": [
        "### Question 16\n",
        "Create a set with elements 'a', 'b', 'c'."
      ]
    },
    {
      "cell_type": "code",
      "execution_count": 16,
      "id": "94d86d23",
      "metadata": {
        "colab": {
          "base_uri": "https://localhost:8080/"
        },
        "id": "94d86d23",
        "outputId": "bdfa7474-fdcc-4190-e587-4f8c3513be98"
      },
      "outputs": [
        {
          "output_type": "stream",
          "name": "stdout",
          "text": [
            "{'b', 'c', 'a'}\n"
          ]
        }
      ],
      "source": [
        "s = {'a', 'b', 'c'}\n",
        "print(s)"
      ]
    },
    {
      "cell_type": "markdown",
      "id": "c4ad3887",
      "metadata": {
        "id": "c4ad3887"
      },
      "source": [
        "### Question 17\n",
        "Clear all elements from set {1,2,3,4,5}."
      ]
    },
    {
      "cell_type": "code",
      "execution_count": 17,
      "id": "ad87cd12",
      "metadata": {
        "colab": {
          "base_uri": "https://localhost:8080/"
        },
        "id": "ad87cd12",
        "outputId": "ee4ae1ae-f9df-4b04-d477-5ebede01ac07"
      },
      "outputs": [
        {
          "output_type": "stream",
          "name": "stdout",
          "text": [
            "set()\n"
          ]
        }
      ],
      "source": [
        "s = {1, 2, 3, 4, 5}\n",
        "s.clear()\n",
        "print(s)"
      ]
    },
    {
      "cell_type": "markdown",
      "id": "c0437cce",
      "metadata": {
        "id": "c0437cce"
      },
      "source": [
        "### Question 18\n",
        "Remove element 4 from set {1,2,3,4}."
      ]
    },
    {
      "cell_type": "code",
      "execution_count": 18,
      "id": "ada0619a",
      "metadata": {
        "colab": {
          "base_uri": "https://localhost:8080/"
        },
        "id": "ada0619a",
        "outputId": "be1697de-d64d-4a26-bcbf-317afac61ccb"
      },
      "outputs": [
        {
          "output_type": "stream",
          "name": "stdout",
          "text": [
            "{1, 2, 3}\n"
          ]
        }
      ],
      "source": [
        "s = {1, 2, 3, 4}\n",
        "s.remove(4)\n",
        "print(s)"
      ]
    },
    {
      "cell_type": "markdown",
      "id": "7c596d05",
      "metadata": {
        "id": "7c596d05"
      },
      "source": [
        "### Question 19\n",
        "Find union of {1,2,3} and {3,4,5}."
      ]
    },
    {
      "cell_type": "code",
      "execution_count": 19,
      "id": "0ec96dec",
      "metadata": {
        "colab": {
          "base_uri": "https://localhost:8080/"
        },
        "id": "0ec96dec",
        "outputId": "efbb3469-9664-4a3c-d7df-105bd3d8d8ba"
      },
      "outputs": [
        {
          "output_type": "stream",
          "name": "stdout",
          "text": [
            "{1, 2, 3, 4, 5}\n"
          ]
        }
      ],
      "source": [
        "print({1, 2, 3}.union({3, 4, 5}))"
      ]
    },
    {
      "cell_type": "markdown",
      "id": "d38e4bfe",
      "metadata": {
        "id": "d38e4bfe"
      },
      "source": [
        "### Question 20\n",
        "Find intersection of {1,2,3} and {2,3,4}."
      ]
    },
    {
      "cell_type": "code",
      "execution_count": 20,
      "id": "0f57f6f1",
      "metadata": {
        "colab": {
          "base_uri": "https://localhost:8080/"
        },
        "id": "0f57f6f1",
        "outputId": "b61e0bfe-99af-4682-926e-e83217b21a49"
      },
      "outputs": [
        {
          "output_type": "stream",
          "name": "stdout",
          "text": [
            "{2, 3}\n"
          ]
        }
      ],
      "source": [
        "print({1, 2, 3}.intersection({2, 3, 4}))"
      ]
    },
    {
      "cell_type": "markdown",
      "id": "6ded7f1f",
      "metadata": {
        "id": "6ded7f1f"
      },
      "source": [
        "### Question 21\n",
        "Create dictionary with keys name, age, city."
      ]
    },
    {
      "cell_type": "code",
      "execution_count": 21,
      "id": "294a12e5",
      "metadata": {
        "colab": {
          "base_uri": "https://localhost:8080/"
        },
        "id": "294a12e5",
        "outputId": "a5e61983-37ea-45fe-9159-4bacbe45aa57"
      },
      "outputs": [
        {
          "output_type": "stream",
          "name": "stdout",
          "text": [
            "{'name': 'John', 'age': 25, 'city': 'New York'}\n"
          ]
        }
      ],
      "source": [
        "d = {'name': 'John', 'age': 25, 'city': 'New York'}\n",
        "print(d)"
      ]
    },
    {
      "cell_type": "markdown",
      "id": "6ae4cb3e",
      "metadata": {
        "id": "6ae4cb3e"
      },
      "source": [
        "### Question 22\n",
        "Add key 'country':'USA' to dict."
      ]
    },
    {
      "cell_type": "code",
      "execution_count": 22,
      "id": "fb5f044f",
      "metadata": {
        "colab": {
          "base_uri": "https://localhost:8080/"
        },
        "id": "fb5f044f",
        "outputId": "8b8109d2-5593-4685-9236-e683100fb1e9"
      },
      "outputs": [
        {
          "output_type": "stream",
          "name": "stdout",
          "text": [
            "{'name': 'John', 'age': 25, 'city': 'New York', 'country': 'USA'}\n"
          ]
        }
      ],
      "source": [
        "d['country'] = 'USA'\n",
        "print(d)"
      ]
    },
    {
      "cell_type": "markdown",
      "id": "dd679319",
      "metadata": {
        "id": "dd679319"
      },
      "source": [
        "### Question 23\n",
        "Access value of key 'name'."
      ]
    },
    {
      "cell_type": "code",
      "execution_count": 23,
      "id": "95529e70",
      "metadata": {
        "colab": {
          "base_uri": "https://localhost:8080/"
        },
        "id": "95529e70",
        "outputId": "5471ab41-2dbf-42f3-d0bd-8fd6608201ef"
      },
      "outputs": [
        {
          "output_type": "stream",
          "name": "stdout",
          "text": [
            "John\n"
          ]
        }
      ],
      "source": [
        "print(d['name'])"
      ]
    },
    {
      "cell_type": "markdown",
      "id": "a58e5c7a",
      "metadata": {
        "id": "a58e5c7a"
      },
      "source": [
        "### Question 24\n",
        "Remove key 'age' from dictionary."
      ]
    },
    {
      "cell_type": "code",
      "execution_count": 24,
      "id": "ce33ddf4",
      "metadata": {
        "colab": {
          "base_uri": "https://localhost:8080/"
        },
        "id": "ce33ddf4",
        "outputId": "a9d585f9-6788-473d-b1b6-172b7b5b050f"
      },
      "outputs": [
        {
          "output_type": "stream",
          "name": "stdout",
          "text": [
            "{'name': 'Bob', 'city': 'New York'}\n"
          ]
        }
      ],
      "source": [
        "d = {'name': 'Bob', 'age': 22, 'city': 'New York'}\n",
        "del d['age']\n",
        "print(d)"
      ]
    },
    {
      "cell_type": "markdown",
      "id": "28aae55b",
      "metadata": {
        "id": "28aae55b"
      },
      "source": [
        "### Question 25\n",
        "Check if 'city' exists in dict."
      ]
    },
    {
      "cell_type": "code",
      "execution_count": 25,
      "id": "28a6c43d",
      "metadata": {
        "colab": {
          "base_uri": "https://localhost:8080/"
        },
        "id": "28a6c43d",
        "outputId": "823811e4-876d-4ff9-b0cc-7904969e2285"
      },
      "outputs": [
        {
          "output_type": "stream",
          "name": "stdout",
          "text": [
            "True\n"
          ]
        }
      ],
      "source": [
        "d = {'name': 'Alice', 'city': 'Paris'}\n",
        "print('city' in d)"
      ]
    },
    {
      "cell_type": "markdown",
      "id": "0c3e9120",
      "metadata": {
        "id": "0c3e9120"
      },
      "source": [
        "### Question 26\n",
        "Create list, tuple, dictionary and print all."
      ]
    },
    {
      "cell_type": "code",
      "execution_count": 26,
      "id": "e61e18f0",
      "metadata": {
        "colab": {
          "base_uri": "https://localhost:8080/"
        },
        "id": "e61e18f0",
        "outputId": "66648e68-3205-442e-9418-0f10cb25d025"
      },
      "outputs": [
        {
          "output_type": "stream",
          "name": "stdout",
          "text": [
            "[1, 2, 3] (4, 5, 6) {'a': 1, 'b': 2}\n"
          ]
        }
      ],
      "source": [
        "l = [1, 2, 3]\n",
        "t = (4, 5, 6)\n",
        "d = {'a': 1, 'b': 2}\n",
        "print(l, t, d)"
      ]
    }
  ],
  "metadata": {
    "colab": {
      "provenance": []
    },
    "language_info": {
      "name": "python"
    },
    "kernelspec": {
      "name": "python3",
      "display_name": "Python 3"
    }
  },
  "nbformat": 4,
  "nbformat_minor": 5
}